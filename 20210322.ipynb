{
  "nbformat": 4,
  "nbformat_minor": 0,
  "metadata": {
    "colab": {
      "name": "Untitled0.ipynb",
      "provenance": [],
      "authorship_tag": "ABX9TyP9Jdi4GrEKMfWpLrP+2GSC",
      "include_colab_link": true
    },
    "kernelspec": {
      "name": "python3",
      "display_name": "Python 3"
    },
    "language_info": {
      "name": "python"
    }
  },
  "cells": [
    {
      "cell_type": "markdown",
      "metadata": {
        "id": "view-in-github",
        "colab_type": "text"
      },
      "source": [
        "<a href=\"https://colab.research.google.com/github/Nayeong127/class2021Spring/blob/main/20210322.ipynb\" target=\"_parent\"><img src=\"https://colab.research.google.com/assets/colab-badge.svg\" alt=\"Open In Colab\"/></a>"
      ]
    },
    {
      "cell_type": "code",
      "metadata": {
        "colab": {
          "base_uri": "https://localhost:8080/"
        },
        "id": "zRZXF0WOX-gA",
        "outputId": "f7fe6c73-9e4a-436b-b6ee-1bd5c6a285f5"
      },
      "source": [
        "#수업 중 과제\n",
        "def 이차함수(x,a,b,c):\n",
        "  y=a*x**2+b*x+c\n",
        "  return y\n",
        "\n",
        "이차함수(2,5,4,3)"
      ],
      "execution_count": 7,
      "outputs": [
        {
          "output_type": "execute_result",
          "data": {
            "text/plain": [
              "31"
            ]
          },
          "metadata": {
            "tags": []
          },
          "execution_count": 7
        }
      ]
    },
    {
      "cell_type": "markdown",
      "metadata": {
        "id": "zOgQZoeDWxNw"
      },
      "source": [
        "함수: 입력수: 입력->변형->출력->변형->출력\n",
        "\n"
      ]
    },
    {
      "cell_type": "code",
      "metadata": {
        "id": "hpc_mhgAye2S"
      },
      "source": [
        "def add(a,b):\n",
        "  return a+b\n",
        "\n",
        "def subtract(a,b):\n",
        "  return a-b\n",
        "\n",
        "def multiply(a,b):\n",
        "  return a*b\n",
        "\n",
        "def divide(a,b):\n",
        "  return a/b"
      ],
      "execution_count": null,
      "outputs": []
    },
    {
      "cell_type": "code",
      "metadata": {
        "id": "GY7l3ELsWtRQ"
      },
      "source": [
        "def addition(a,b):\n",
        "  y=a+b\n",
        "  return y\n",
        "#def 함수명(입력 변수) return 다음 출력 값\n",
        "\n",
        "def func1(x):\n",
        "  a=1;b=2\n",
        "  y=a*x+b\n",
        "  return y\n",
        "\n",
        "#return 없이 출력값이 안 나옴\n",
        "def func2(a,b):\n",
        "  a+b"
      ],
      "execution_count": null,
      "outputs": []
    },
    {
      "cell_type": "code",
      "metadata": {
        "id": "AAqgueosXCh7",
        "colab": {
          "base_uri": "https://localhost:8080/"
        },
        "outputId": "d67dc78b-ac50-4c3c-9a18-19fe44316e36"
      },
      "source": [
        "func1(2)"
      ],
      "execution_count": null,
      "outputs": [
        {
          "output_type": "execute_result",
          "data": {
            "text/plain": [
              "4"
            ]
          },
          "metadata": {
            "tags": []
          },
          "execution_count": 12
        }
      ]
    },
    {
      "cell_type": "code",
      "metadata": {
        "id": "meZ_ocMPXOG3"
      },
      "source": [
        "func2(3,4)\n",
        "#결과 안 나와"
      ],
      "execution_count": null,
      "outputs": []
    },
    {
      "cell_type": "code",
      "metadata": {
        "id": "lxuLIdMFXWnh",
        "colab": {
          "base_uri": "https://localhost:8080/"
        },
        "outputId": "f8195cdc-1320-45ae-fbdb-8ad4dc96fa71"
      },
      "source": [
        "g=func2(3,5);print(g)"
      ],
      "execution_count": null,
      "outputs": [
        {
          "output_type": "stream",
          "text": [
            "None\n"
          ],
          "name": "stdout"
        }
      ]
    },
    {
      "cell_type": "code",
      "metadata": {
        "colab": {
          "base_uri": "https://localhost:8080/"
        },
        "id": "8Y4oa05Eykn4",
        "outputId": "7e186590-61dc-49a9-e22f-0bcb617fd3b7"
      },
      "source": [
        "c = add(1,2); print(c)\n",
        "c = subtract(1,2); print(c)\n",
        "c = multiply(1,2); print(c)\n",
        "c = divide(1,2); print(c)"
      ],
      "execution_count": null,
      "outputs": [
        {
          "output_type": "stream",
          "text": [
            "3\n",
            "-1\n",
            "2\n",
            "0.5\n"
          ],
          "name": "stdout"
        }
      ]
    }
  ]
}