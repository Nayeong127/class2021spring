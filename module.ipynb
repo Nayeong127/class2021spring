{
  "nbformat": 4,
  "nbformat_minor": 0,
  "metadata": {
    "colab": {
      "name": "Untitled1.ipynb",
      "provenance": [],
      "authorship_tag": "ABX9TyM3lrAMDud+HD+w/ZVEvClV",
      "include_colab_link": true
    },
    "kernelspec": {
      "name": "python3",
      "display_name": "Python 3"
    },
    "language_info": {
      "name": "python"
    }
  },
  "cells": [
    {
      "cell_type": "markdown",
      "metadata": {
        "id": "view-in-github",
        "colab_type": "text"
      },
      "source": [
        "<a href=\"https://colab.research.google.com/github/Nayeong127/class2021Spring/blob/main/module.ipynb\" target=\"_parent\"><img src=\"https://colab.research.google.com/assets/colab-badge.svg\" alt=\"Open In Colab\"/></a>"
      ]
    },
    {
      "cell_type": "code",
      "metadata": {
        "id": "UV5b3IQegEv-"
      },
      "source": [
        ""
      ],
      "execution_count": null,
      "outputs": []
    },
    {
      "cell_type": "code",
      "metadata": {
        "id": "sU1MEIdt2UEc"
      },
      "source": [
        "#교수님 코딩\n",
        "class cal:\n",
        "  def __init__(self):\n",
        "    self.result = 0\n",
        "  def add(self, n):\n",
        "    self.result += n\n",
        "    return self.result"
      ],
      "execution_count": null,
      "outputs": []
    },
    {
      "cell_type": "markdown",
      "metadata": {
        "id": "hITdRVwvbiGK"
      },
      "source": [
        "# **수업 필기**\n",
        "\n",
        "class cal:\n",
        "  def __init__(self):\n",
        "      self.result = 0\n",
        "\n",
        "init은 초기화시키고 싶을 땐 이건 고정이야 돈ㅌ체인지! / 만약 초기화하기 싫으면 빼도 되긴 해~\n",
        "\n",
        "모듈은 함수,변수, 클래스 모아놓은 파일.\n",
        "패키지 전체~를!"
      ]
    },
    {
      "cell_type": "code",
      "metadata": {
        "id": "GxtHBcqKbiuq",
        "colab": {
          "base_uri": "https://localhost:8080/"
        },
        "outputId": "02849cb7-d412-4a99-9595-857be352d12e"
      },
      "source": [
        "A=cal()\n",
        "#A는 객체\n",
        "A.result"
      ],
      "execution_count": null,
      "outputs": [
        {
          "output_type": "execute_result",
          "data": {
            "text/plain": [
              "0"
            ]
          },
          "metadata": {
            "tags": []
          },
          "execution_count": 2
        }
      ]
    },
    {
      "cell_type": "code",
      "metadata": {
        "id": "Vu_SlTpFcoXV",
        "colab": {
          "base_uri": "https://localhost:8080/"
        },
        "outputId": "128f5794-5eee-4b08-afab-b993703e13a4"
      },
      "source": [
        "A.add(4)\n",
        "#class 쓸 때 객체 먼저 만들고 함수 실행. \n",
        "#self는 입력으로 들어간 게 아니라 A를 넣은 것!!"
      ],
      "execution_count": null,
      "outputs": [
        {
          "output_type": "execute_result",
          "data": {
            "text/plain": [
              "4"
            ]
          },
          "metadata": {
            "tags": []
          },
          "execution_count": 3
        }
      ]
    },
    {
      "cell_type": "code",
      "metadata": {
        "id": "A-Xs4nftdMyn",
        "colab": {
          "base_uri": "https://localhost:8080/"
        },
        "outputId": "3d7dfd89-d6e2-4c60-eaed-79ad01b6667f"
      },
      "source": [
        "A.add(6)"
      ],
      "execution_count": null,
      "outputs": [
        {
          "output_type": "execute_result",
          "data": {
            "text/plain": [
              "10"
            ]
          },
          "metadata": {
            "tags": []
          },
          "execution_count": 4
        }
      ]
    },
    {
      "cell_type": "code",
      "metadata": {
        "id": "a4qcRhdVde8R"
      },
      "source": [
        "B=cal()"
      ],
      "execution_count": null,
      "outputs": []
    },
    {
      "cell_type": "code",
      "metadata": {
        "id": "XmssGeX_dhXJ",
        "colab": {
          "base_uri": "https://localhost:8080/"
        },
        "outputId": "8c9d2af9-cb25-4755-9bfa-97ca6dc59181"
      },
      "source": [
        "B.result"
      ],
      "execution_count": null,
      "outputs": [
        {
          "output_type": "execute_result",
          "data": {
            "text/plain": [
              "0"
            ]
          },
          "metadata": {
            "tags": []
          },
          "execution_count": 6
        }
      ]
    },
    {
      "cell_type": "code",
      "metadata": {
        "id": "lbnVZ35udoQt",
        "colab": {
          "base_uri": "https://localhost:8080/"
        },
        "outputId": "bacba02e-2101-435a-dde3-6f122fd8b24a"
      },
      "source": [
        "B.add(5)"
      ],
      "execution_count": null,
      "outputs": [
        {
          "output_type": "execute_result",
          "data": {
            "text/plain": [
              "5"
            ]
          },
          "metadata": {
            "tags": []
          },
          "execution_count": 7
        }
      ]
    },
    {
      "cell_type": "code",
      "metadata": {
        "id": "DK4vTA6T4NN0"
      },
      "source": [
        "def func(a, b, x):\n",
        "  y = a*x + b\n",
        "  return y"
      ],
      "execution_count": null,
      "outputs": []
    }
  ]
}