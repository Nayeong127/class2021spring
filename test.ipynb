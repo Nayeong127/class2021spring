{
  "nbformat": 4,
  "nbformat_minor": 0,
  "metadata": {
    "colab": {
      "name": "Untitled0.ipynb",
      "provenance": [],
      "authorship_tag": "ABX9TyM4rEmHUfAI8mQ89CGuv77I",
      "include_colab_link": true
    },
    "kernelspec": {
      "name": "python3",
      "display_name": "Python 3"
    }
  },
  "cells": [
    {
      "cell_type": "markdown",
      "metadata": {
        "id": "view-in-github",
        "colab_type": "text"
      },
      "source": [
        "<a href=\"https://colab.research.google.com/github/Nayeong127/class2021Spring/blob/main/test.ipynb\" target=\"_parent\"><img src=\"https://colab.research.google.com/assets/colab-badge.svg\" alt=\"Open In Colab\"/></a>"
      ]
    },
    {
      "cell_type": "code",
      "metadata": {
        "id": "fhcTivCyT5Cq"
      },
      "source": [
        ""
      ],
      "execution_count": null,
      "outputs": []
    },
    {
      "cell_type": "markdown",
      "metadata": {
        "id": "d4vToJveUGPy"
      },
      "source": [
        "# **오늘** 배운 것: \r\n",
        "### github 계정 만들기, login 해서 repository 만들기 (이름은 class2021Spring)\r\n",
        "\r\n",
        "\r\n",
        "1.   PYTHON\r\n",
        "2.   markdown\r\n",
        "\r\n"
      ]
    },
    {
      "cell_type": "code",
      "metadata": {
        "colab": {
          "base_uri": "https://localhost:8080/",
          "height": 0
        },
        "id": "Anx2gsoLVrgF",
        "outputId": "52e9a008-9e69-4b8a-92ab-befeae8b9b25"
      },
      "source": [
        "a=1\r\n",
        "b=1\r\n",
        "c=a+b\r\n",
        "c"
      ],
      "execution_count": 1,
      "outputs": [
        {
          "output_type": "execute_result",
          "data": {
            "text/plain": [
              "2"
            ]
          },
          "metadata": {
            "tags": []
          },
          "execution_count": 1
        }
      ]
    },
    {
      "cell_type": "markdown",
      "metadata": {
        "id": "tqoyQNkIVtHJ"
      },
      "source": [
        "우리는 파이썬을 배우게 됩니다. "
      ]
    },
    {
      "cell_type": "code",
      "metadata": {
        "colab": {
          "base_uri": "https://localhost:8080/",
          "height": 0
        },
        "id": "TJ1l99s-WT_a",
        "outputId": "7c28c0e7-0736-49a7-8d7f-731b6c8a1ed2"
      },
      "source": [
        "a=1\r\n",
        "a"
      ],
      "execution_count": 2,
      "outputs": [
        {
          "output_type": "execute_result",
          "data": {
            "text/plain": [
              "1"
            ]
          },
          "metadata": {
            "tags": []
          },
          "execution_count": 2
        }
      ]
    },
    {
      "cell_type": "markdown",
      "metadata": {
        "id": "z9WBloM7WJjb"
      },
      "source": [
        "# 파이썬을 어디서 배우나요?\r\n",
        "### jump to python"
      ]
    }
  ]
}