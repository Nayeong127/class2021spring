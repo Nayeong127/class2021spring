{
  "nbformat": 4,
  "nbformat_minor": 0,
  "metadata": {
    "colab": {
      "name": "Untitled1.ipynb",
      "provenance": [],
      "authorship_tag": "ABX9TyPx80gioVml1UD5UsP/3kkg",
      "include_colab_link": true
    },
    "kernelspec": {
      "name": "python3",
      "display_name": "Python 3"
    }
  },
  "cells": [
    {
      "cell_type": "markdown",
      "metadata": {
        "id": "view-in-github",
        "colab_type": "text"
      },
      "source": [
        "<a href=\"https://colab.research.google.com/github/Nayeong127/class2021Spring/blob/main/20210317.ipynb\" target=\"_parent\"><img src=\"https://colab.research.google.com/assets/colab-badge.svg\" alt=\"Open In Colab\"/></a>"
      ]
    },
    {
      "cell_type": "code",
      "metadata": {
        "colab": {
          "base_uri": "https://localhost:8080/"
        },
        "id": "auQEzB1EubjF",
        "outputId": "022dc555-5ddb-46e8-ab06-ff4e088b99ea"
      },
      "source": [
        "for i in ['Yu',0.1,'Nayeong',1,2,3,'나영','유나영','융융이']:\r\n",
        "  for j in range(3,9):\r\n",
        "    if type(i)==str:\r\n",
        "      print(i,j)"
      ],
      "execution_count": 6,
      "outputs": [
        {
          "output_type": "stream",
          "text": [
            "Yu 3\n",
            "Yu 4\n",
            "Yu 5\n",
            "Yu 6\n",
            "Yu 7\n",
            "Yu 8\n",
            "Nayeong 3\n",
            "Nayeong 4\n",
            "Nayeong 5\n",
            "Nayeong 6\n",
            "Nayeong 7\n",
            "Nayeong 8\n",
            "나영 3\n",
            "나영 4\n",
            "나영 5\n",
            "나영 6\n",
            "나영 7\n",
            "나영 8\n",
            "유나영 3\n",
            "유나영 4\n",
            "유나영 5\n",
            "유나영 6\n",
            "유나영 7\n",
            "유나영 8\n",
            "융융이 3\n",
            "융융이 4\n",
            "융융이 5\n",
            "융융이 6\n",
            "융융이 7\n",
            "융융이 8\n"
          ],
          "name": "stdout"
        }
      ]
    },
    {
      "cell_type": "code",
      "metadata": {
        "colab": {
          "base_uri": "https://localhost:8080/"
        },
        "id": "YJyPxT2Vuwj_",
        "outputId": "1d0e2629-4fef-4b56-e810-87bd36932569"
      },
      "source": [
        "a=range(0,9,2)\r\n",
        "[i for i in a if i<=5]"
      ],
      "execution_count": 2,
      "outputs": [
        {
          "output_type": "execute_result",
          "data": {
            "text/plain": [
              "[0, 2, 4]"
            ]
          },
          "metadata": {
            "tags": []
          },
          "execution_count": 2
        }
      ]
    },
    {
      "cell_type": "code",
      "metadata": {
        "id": "7Nb4sr8jvIkt"
      },
      "source": [
        ""
      ],
      "execution_count": null,
      "outputs": []
    }
  ]
}