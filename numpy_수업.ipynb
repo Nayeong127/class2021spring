{
  "nbformat": 4,
  "nbformat_minor": 0,
  "metadata": {
    "colab": {
      "name": "numpy 수업.ipynb",
      "provenance": [],
      "authorship_tag": "ABX9TyMUZqCNp8clvoOJJO2mEg6t",
      "include_colab_link": true
    },
    "kernelspec": {
      "name": "python3",
      "display_name": "Python 3"
    },
    "language_info": {
      "name": "python"
    }
  },
  "cells": [
    {
      "cell_type": "markdown",
      "metadata": {
        "id": "view-in-github",
        "colab_type": "text"
      },
      "source": [
        "<a href=\"https://colab.research.google.com/github/Nayeong127/class2021Spring/blob/main/numpy_%EC%88%98%EC%97%85.ipynb\" target=\"_parent\"><img src=\"https://colab.research.google.com/assets/colab-badge.svg\" alt=\"Open In Colab\"/></a>"
      ]
    },
    {
      "cell_type": "markdown",
      "metadata": {
        "id": "e-2S1OhwShA_"
      },
      "source": [
        "# NumPy basics"
      ]
    },
    {
      "cell_type": "markdown",
      "metadata": {
        "id": "japnNanbShBA"
      },
      "source": [
        "## 1. Creation"
      ]
    },
    {
      "cell_type": "code",
      "metadata": {
        "id": "5ap7xyofShBB"
      },
      "source": [
        "import numpy as np\n",
        "import matplotlib.pyplot as plt\n",
        "#as ~ 하면 numpy.~ 대신에 np. 으로 가능"
      ],
      "execution_count": 19,
      "outputs": []
    },
    {
      "cell_type": "code",
      "metadata": {
        "colab": {
          "base_uri": "https://localhost:8080/"
        },
        "id": "UN75y-1SpHgS",
        "outputId": "cfb50750-cc0a-4b9d-a304-37d031cb33ff"
      },
      "source": [
        "np.empty([2,3], dtype='int')"
      ],
      "execution_count": 20,
      "outputs": [
        {
          "output_type": "execute_result",
          "data": {
            "text/plain": [
              "array([[4625534587281552179, 4625534587281552179, 4625534587281552179],\n",
              "       [4625534587281552179, 4625534587281552179, 4627504912118526771]])"
            ]
          },
          "metadata": {
            "tags": []
          },
          "execution_count": 20
        }
      ]
    },
    {
      "cell_type": "code",
      "metadata": {
        "id": "xJS2wUSzShBB",
        "colab": {
          "base_uri": "https://localhost:8080/"
        },
        "outputId": "14381055-788a-4687-f6b1-28c57d502197"
      },
      "source": [
        "np.empty([2,3], dtype='int')\n",
        "#empty [2,3]는 2*3의 행렬!->직사각형의 숫자배열/ 가로:행, 세로:열 .2행,3열\n",
        "#뒷부분: 데이터타입이 int면 좋겠다~"
      ],
      "execution_count": 21,
      "outputs": [
        {
          "output_type": "execute_result",
          "data": {
            "text/plain": [
              "array([[                  0, 4617315517961601024, 4621819117588971520],\n",
              "       [4624633867356078080, 4626322717216342016, 4627730092099895296]])"
            ]
          },
          "metadata": {
            "tags": []
          },
          "execution_count": 21
        }
      ]
    },
    {
      "cell_type": "code",
      "metadata": {
        "id": "XKkV6Am7ShBB",
        "colab": {
          "base_uri": "https://localhost:8080/"
        },
        "outputId": "4cc6c4f1-ee18-45b0-ebc0-ebaaafa936ea"
      },
      "source": [
        "np.zeros([2,3])\n",
        "#2 by 3의 0으로 가득차 있는 행렬\n",
        "#디폴트 데이터 타입이 플로트~"
      ],
      "execution_count": 22,
      "outputs": [
        {
          "output_type": "execute_result",
          "data": {
            "text/plain": [
              "array([[0., 0., 0.],\n",
              "       [0., 0., 0.]])"
            ]
          },
          "metadata": {
            "tags": []
          },
          "execution_count": 22
        }
      ]
    },
    {
      "cell_type": "code",
      "metadata": {
        "id": "EjC88C75ShBC",
        "colab": {
          "base_uri": "https://localhost:8080/"
        },
        "outputId": "6db6f42f-1d8e-4bc8-8f0e-19aeb8310608"
      },
      "source": [
        "np.arange(0,10,2, dtype='float64')\n",
        "#0부터 10까지(포함 안 되게) 2만큼의 인크리먼트를 가지고 숫자를 만들어라~ ->02468\n",
        "#flot64는 소수점~"
      ],
      "execution_count": 23,
      "outputs": [
        {
          "output_type": "execute_result",
          "data": {
            "text/plain": [
              "array([0., 2., 4., 6., 8.])"
            ]
          },
          "metadata": {
            "tags": []
          },
          "execution_count": 23
        }
      ]
    },
    {
      "cell_type": "code",
      "metadata": {
        "id": "-MwkCEjTShBC",
        "colab": {
          "base_uri": "https://localhost:8080/"
        },
        "outputId": "3bc97582-a230-4bec-b9f8-7fcc4db10075"
      },
      "source": [
        "np.linspace(0,10,6, dtype=float)\n",
        "#너무 중요!!!!!! \n",
        "#0부터 10(포함)까지 같은 간격으로 총 6개를 만들어라~\n",
        "#벡터는 길쭉한 행렬(?) 가로 긴 건 row vector/ 세로 긴 건 column vector\n"
      ],
      "execution_count": 24,
      "outputs": [
        {
          "output_type": "execute_result",
          "data": {
            "text/plain": [
              "array([ 0.,  2.,  4.,  6.,  8., 10.])"
            ]
          },
          "metadata": {
            "tags": []
          },
          "execution_count": 24
        }
      ]
    },
    {
      "cell_type": "code",
      "metadata": {
        "id": "2rqpSPZCShBC",
        "colab": {
          "base_uri": "https://localhost:8080/"
        },
        "outputId": "ab07d985-3722-4f15-b229-400b5d075bd7"
      },
      "source": [
        "X = np.array([[1,2,3],[4,5,6]])\n",
        "X\n",
        "#일반 행렬\n",
        "#첫번 째 리스트가 첫 줄 \n",
        "#,의 개수가 (이거) by 어쩌구.\n",
        "#리스트 안의 원소 개수가 어쩌구 by (이거)"
      ],
      "execution_count": 25,
      "outputs": [
        {
          "output_type": "execute_result",
          "data": {
            "text/plain": [
              "array([[1, 2, 3],\n",
              "       [4, 5, 6]])"
            ]
          },
          "metadata": {
            "tags": []
          },
          "execution_count": 25
        }
      ]
    },
    {
      "cell_type": "code",
      "metadata": {
        "id": "2IZcYVgpShBD",
        "outputId": "7ec4bd94-98a8-4cb4-db23-9ff5aa701195"
      },
      "source": [
        "X.astype(np.float64)"
      ],
      "execution_count": null,
      "outputs": [
        {
          "output_type": "execute_result",
          "data": {
            "text/plain": [
              "array([[1., 2., 3.],\n",
              "       [4., 5., 6.]])"
            ]
          },
          "metadata": {
            "tags": []
          },
          "execution_count": 8
        }
      ]
    },
    {
      "cell_type": "code",
      "metadata": {
        "id": "Xm5y2XPRShBD",
        "colab": {
          "base_uri": "https://localhost:8080/"
        },
        "outputId": "b3be0e70-17bf-45ae-a39b-ad032ac5fc3b"
      },
      "source": [
        "np.zeros_like(X)\n",
        "#000으로 대체해라~"
      ],
      "execution_count": 26,
      "outputs": [
        {
          "output_type": "execute_result",
          "data": {
            "text/plain": [
              "array([[0, 0, 0],\n",
              "       [0, 0, 0]])"
            ]
          },
          "metadata": {
            "tags": []
          },
          "execution_count": 26
        }
      ]
    },
    {
      "cell_type": "code",
      "metadata": {
        "id": "z1oOAB6dShBD",
        "colab": {
          "base_uri": "https://localhost:8080/",
          "height": 705
        },
        "outputId": "36964424-27b6-4ea9-9f35-2d308fdbc317"
      },
      "source": [
        "data = np.random.normal(0,1, 100)\n",
        "print(data)\n",
        "plt.hist(data, bins=10)\n",
        "plt.show()\n",
        "#bin 개수 크면 엄청 얇아져!\n",
        "#random한 숫자의 normal distribution\n",
        "#100보다 더 크면 정규분포에 가까워져\n",
        "#이 아래 얘는 행렬이 아니고 벡터야~"
      ],
      "execution_count": 27,
      "outputs": [
        {
          "output_type": "stream",
          "text": [
            "[ 5.55749538e-01  2.94570778e-01  1.03149356e+00 -5.24144918e-01\n",
            " -3.75463894e-01  3.27302992e-01  6.84489640e-01  1.38459530e+00\n",
            " -2.19834151e+00 -2.07338289e-01 -4.92466515e-01  1.35639173e+00\n",
            " -3.20491830e-01  6.64189902e-02  1.30994165e-02 -3.96345707e-01\n",
            "  6.38906408e-01  1.07909519e+00  1.12768743e+00 -2.88289837e+00\n",
            "  2.38951576e-01 -2.69090899e-01  9.86454107e-01  4.71616235e-01\n",
            " -8.20786935e-01  4.59916041e-01 -5.33400154e-01  9.37187818e-01\n",
            "  5.00578937e-01  8.41727729e-01  2.68553216e-01 -3.51468799e-01\n",
            " -7.57933779e-01  8.28859712e-01 -3.64129360e-01  5.44309795e-01\n",
            "  4.45975499e-01  5.67785256e-01 -2.17435602e-01 -1.86479931e+00\n",
            " -2.75238969e-01  8.82174870e-01 -2.01882294e-01  6.63311531e-01\n",
            "  4.46387858e-01 -8.98055128e-01 -3.56233519e-01 -4.38927620e-01\n",
            " -8.73801233e-02 -7.64315196e-01  3.99674603e-01  4.27201076e-01\n",
            "  3.19820793e-01 -1.39339032e-01 -6.87738860e-01 -2.00363794e+00\n",
            "  3.87444306e-01 -2.74662927e-01  6.25380466e-01 -3.55893749e-01\n",
            "  2.42239003e-01 -4.68435501e-01  4.67036278e-01  1.78033559e-01\n",
            " -6.33719491e-01  6.79889500e-02  7.49277509e-01  1.53360651e-01\n",
            "  1.75550697e+00  2.62798493e-03 -1.10097389e+00 -1.06945352e+00\n",
            " -2.14651910e+00 -2.18595705e-01 -4.42210833e-01 -6.09869925e-01\n",
            " -3.27207652e-01  2.05621140e-01 -5.04921655e-01  2.29222583e-01\n",
            " -4.36928614e-02 -4.00506241e-01  9.69242562e-01 -5.72125828e-01\n",
            " -1.61586931e-01  2.96152075e-01  5.38407666e-01  5.09605312e-01\n",
            "  1.36405477e-01 -1.04303427e+00  4.90204485e-01 -8.85649345e-01\n",
            "  1.51363697e+00  6.12658600e-01 -1.29892554e+00  6.81476037e-01\n",
            " -1.78393484e-02  4.29071755e-01 -6.71311462e-01  1.52809337e+00]\n"
          ],
          "name": "stdout"
        },
        {
          "output_type": "display_data",
          "data": {
            "image/png": "[encoded data removed]",
            "text/plain": [
              "<Figure size 432x288 with 1 Axes>"
            ]
          },
          "metadata": {
            "tags": [],
            "needs_background": "light"
          }
        }
      ]
    },
    {
      "cell_type": "markdown",
      "metadata": {
        "id": "G0exvwBbShBE"
      },
      "source": [
        "## 2. Manipulation"
      ]
    },
    {
      "cell_type": "code",
      "metadata": {
        "id": "HgQmRXzMShBE",
        "colab": {
          "base_uri": "https://localhost:8080/"
        },
        "outputId": "af963e94-0209-4a6a-89b9-bc3ff1271585"
      },
      "source": [
        "X = np.ones([2, 3, 4])\n",
        "X\n",
        "#3차원/ 중첩된 리스트/ 브래킷 세 개 나와야지~( 4개 씩 있는 리스트가 3개 씩 2개)\n",
        "#1이 24개 있어야 해."
      ],
      "execution_count": 32,
      "outputs": [
        {
          "output_type": "execute_result",
          "data": {
            "text/plain": [
              "array([[[1., 1., 1., 1.],\n",
              "        [1., 1., 1., 1.],\n",
              "        [1., 1., 1., 1.]],\n",
              "\n",
              "       [[1., 1., 1., 1.],\n",
              "        [1., 1., 1., 1.],\n",
              "        [1., 1., 1., 1.]]])"
            ]
          },
          "metadata": {
            "tags": []
          },
          "execution_count": 32
        }
      ]
    },
    {
      "cell_type": "code",
      "metadata": {
        "colab": {
          "base_uri": "https://localhost:8080/"
        },
        "id": "atJ4oVuwwS3c",
        "outputId": "54c5c0e2-5f53-4dc4-af30-7ac636b2e00c"
      },
      "source": [
        "영 = np.ones([3, 2, 6])\n",
        "영"
      ],
      "execution_count": 31,
      "outputs": [
        {
          "output_type": "execute_result",
          "data": {
            "text/plain": [
              "array([[[1., 1., 1., 1., 1., 1.],\n",
              "        [1., 1., 1., 1., 1., 1.]],\n",
              "\n",
              "       [[1., 1., 1., 1., 1., 1.],\n",
              "        [1., 1., 1., 1., 1., 1.]],\n",
              "\n",
              "       [[1., 1., 1., 1., 1., 1.],\n",
              "        [1., 1., 1., 1., 1., 1.]]])"
            ]
          },
          "metadata": {
            "tags": []
          },
          "execution_count": 31
        }
      ]
    },
    {
      "cell_type": "code",
      "metadata": {
        "id": "O-wDF4vEShBE",
        "colab": {
          "base_uri": "https://localhost:8080/"
        },
        "outputId": "61732a1c-fbac-4c68-f03b-78d5a4d0dcd5"
      },
      "source": [
        "Y = X.reshape(-1, 3, 2)\n",
        "Y\n",
        "#reshape인데~\n",
        "#-1 뭐임;? 자기가 알아서 24에 맞춰서 하는 것이다~"
      ],
      "execution_count": 33,
      "outputs": [
        {
          "output_type": "execute_result",
          "data": {
            "text/plain": [
              "array([[[1., 1.],\n",
              "        [1., 1.],\n",
              "        [1., 1.]],\n",
              "\n",
              "       [[1., 1.],\n",
              "        [1., 1.],\n",
              "        [1., 1.]],\n",
              "\n",
              "       [[1., 1.],\n",
              "        [1., 1.],\n",
              "        [1., 1.]],\n",
              "\n",
              "       [[1., 1.],\n",
              "        [1., 1.],\n",
              "        [1., 1.]]])"
            ]
          },
          "metadata": {
            "tags": []
          },
          "execution_count": 33
        }
      ]
    },
    {
      "cell_type": "code",
      "metadata": {
        "colab": {
          "base_uri": "https://localhost:8080/"
        },
        "id": "RORYHQt-w79S",
        "outputId": "d2ba83f1-4bed-4c5a-89a7-36e278e6aedd"
      },
      "source": [
        "영영=X.reshape(-1, 6, 2)\n",
        "영영"
      ],
      "execution_count": 34,
      "outputs": [
        {
          "output_type": "execute_result",
          "data": {
            "text/plain": [
              "array([[[1., 1.],\n",
              "        [1., 1.],\n",
              "        [1., 1.],\n",
              "        [1., 1.],\n",
              "        [1., 1.],\n",
              "        [1., 1.]],\n",
              "\n",
              "       [[1., 1.],\n",
              "        [1., 1.],\n",
              "        [1., 1.],\n",
              "        [1., 1.],\n",
              "        [1., 1.],\n",
              "        [1., 1.]]])"
            ]
          },
          "metadata": {
            "tags": []
          },
          "execution_count": 34
        }
      ]
    },
    {
      "cell_type": "code",
      "metadata": {
        "colab": {
          "base_uri": "https://localhost:8080/"
        },
        "id": "i_2Fww6yxCzk",
        "outputId": "d514b9ee-e1e0-4bd2-fb5d-5ee07a174feb"
      },
      "source": [
        "융=X.reshape(3, -1, 2)\n",
        "융"
      ],
      "execution_count": 35,
      "outputs": [
        {
          "output_type": "execute_result",
          "data": {
            "text/plain": [
              "array([[[1., 1.],\n",
              "        [1., 1.],\n",
              "        [1., 1.],\n",
              "        [1., 1.]],\n",
              "\n",
              "       [[1., 1.],\n",
              "        [1., 1.],\n",
              "        [1., 1.],\n",
              "        [1., 1.]],\n",
              "\n",
              "       [[1., 1.],\n",
              "        [1., 1.],\n",
              "        [1., 1.],\n",
              "        [1., 1.]]])"
            ]
          },
          "metadata": {
            "tags": []
          },
          "execution_count": 35
        }
      ]
    },
    {
      "cell_type": "code",
      "metadata": {
        "colab": {
          "base_uri": "https://localhost:8080/"
        },
        "id": "stT8cSaxxKE4",
        "outputId": "718a86b2-8f09-4f1f-ee1f-a4e98360d7b7"
      },
      "source": [
        "X.reshape(6,4)\n",
        "#얜 2차원이야!! 왠지 알지!?"
      ],
      "execution_count": 37,
      "outputs": [
        {
          "output_type": "execute_result",
          "data": {
            "text/plain": [
              "array([[1., 1., 1., 1.],\n",
              "       [1., 1., 1., 1.],\n",
              "       [1., 1., 1., 1.],\n",
              "       [1., 1., 1., 1.],\n",
              "       [1., 1., 1., 1.],\n",
              "       [1., 1., 1., 1.]])"
            ]
          },
          "metadata": {
            "tags": []
          },
          "execution_count": 37
        }
      ]
    },
    {
      "cell_type": "code",
      "metadata": {
        "id": "f1QGwVduShBE",
        "colab": {
          "base_uri": "https://localhost:8080/"
        },
        "outputId": "4f9b3160-9b82-4660-fb20-c7cf564f82a5"
      },
      "source": [
        "np.allclose(X.reshape(-1, 3, 2), Y)\n",
        "#skip~"
      ],
      "execution_count": 38,
      "outputs": [
        {
          "output_type": "execute_result",
          "data": {
            "text/plain": [
              "True"
            ]
          },
          "metadata": {
            "tags": []
          },
          "execution_count": 38
        }
      ]
    },
    {
      "cell_type": "code",
      "metadata": {
        "id": "_4QCUpttShBF"
      },
      "source": [
        "assert np.allclose(X.reshape(-1, 3, 2), Y)\n",
        "#skip~"
      ],
      "execution_count": 39,
      "outputs": []
    },
    {
      "cell_type": "markdown",
      "metadata": {
        "id": "Hru2lI-tShBF"
      },
      "source": [
        "## 3. NumPy I/O 스킵합니다~"
      ]
    },
    {
      "cell_type": "code",
      "metadata": {
        "id": "msE1ANUYShBF"
      },
      "source": [
        "a = np.random.randint(0, 10, [2, 3])\n",
        "b = np.random.random([2, 3])\n",
        "np.savez(\"test\", a, b)"
      ],
      "execution_count": null,
      "outputs": []
    },
    {
      "cell_type": "code",
      "metadata": {
        "id": "3l0iXfmUShBF",
        "outputId": "5fe2bc07-8446-43fa-e88d-0aa9caf48856"
      },
      "source": [
        "!ls -al test*"
      ],
      "execution_count": null,
      "outputs": [
        {
          "output_type": "stream",
          "text": [
            "-rw-r--r--  1 jookai  staff     562 Apr  2 00:35 test.npz\n",
            "-rw-r--r--  1 jookai  staff  123438 Mar 14 23:19 test.wav\n"
          ],
          "name": "stdout"
        }
      ]
    },
    {
      "cell_type": "code",
      "metadata": {
        "id": "a5USScB1ShBF",
        "outputId": "1f399f57-6c91-471c-e359-f88ec0d2385e"
      },
      "source": [
        "del a, b\n",
        "%who  # Print all interactive variables"
      ],
      "execution_count": null,
      "outputs": [
        {
          "output_type": "stream",
          "text": [
            "No variables match your requested type.\n"
          ],
          "name": "stdout"
        }
      ]
    },
    {
      "cell_type": "code",
      "metadata": {
        "id": "mPlh78KvShBG",
        "outputId": "22dd7701-1fa8-4ee9-eab0-886a78976692"
      },
      "source": [
        "npzfiles = np.load(\"test.npz\")\n",
        "npzfiles.files"
      ],
      "execution_count": null,
      "outputs": [
        {
          "output_type": "execute_result",
          "data": {
            "text/plain": [
              "['arr_0', 'arr_1']"
            ]
          },
          "metadata": {
            "tags": []
          },
          "execution_count": 46
        }
      ]
    },
    {
      "cell_type": "code",
      "metadata": {
        "id": "b0zYFFipShBG",
        "outputId": "05f45053-f2db-4428-c4e5-04362a03cf87"
      },
      "source": [
        "npzfiles['arr_0']"
      ],
      "execution_count": null,
      "outputs": [
        {
          "output_type": "execute_result",
          "data": {
            "text/plain": [
              "array([[1, 5, 2],\n",
              "       [1, 7, 0]])"
            ]
          },
          "metadata": {
            "tags": []
          },
          "execution_count": 48
        }
      ]
    },
    {
      "cell_type": "code",
      "metadata": {
        "id": "ZsH2_VD0nPVC",
        "colab": {
          "resources": {
            "http://localhost:8080/nbextensions/google.colab/files.js": {
              "data": "Ly8gQ29weXJpZ2h0IDIwMTcgR29vZ2xlIExMQwovLwovLyBMaWNlbnNlZCB1bmRlciB0aGUgQXBhY2hlIExpY2Vuc2UsIFZlcnNpb24gMi4wICh0aGUgIkxpY2Vuc2UiKTsKLy8geW91IG1heSBub3QgdXNlIHRoaXMgZmlsZSBleGNlcHQgaW4gY29tcGxpYW5jZSB3aXRoIHRoZSBMaWNlbnNlLgovLyBZb3UgbWF5IG9idGFpbiBhIGNvcHkgb2YgdGhlIExpY2Vuc2UgYXQKLy8KLy8gICAgICBodHRwOi8vd3d3LmFwYWNoZS5vcmcvbGljZW5zZXMvTElDRU5TRS0yLjAKLy8KLy8gVW5sZXNzIHJlcXVpcmVkIGJ5IGFwcGxpY2FibGUgbGF3IG9yIGFncmVlZCB0byBpbiB3cml0aW5nLCBzb2Z0d2FyZQovLyBkaXN0cmlidXRlZCB1bmRlciB0aGUgTGljZW5zZSBpcyBkaXN0cmlidXRlZCBvbiBhbiAiQVMgSVMiIEJBU0lTLAovLyBXSVRIT1VUIFdBUlJBTlRJRVMgT1IgQ09ORElUSU9OUyBPRiBBTlkgS0lORCwgZWl0aGVyIGV4cHJlc3Mgb3IgaW1wbGllZC4KLy8gU2VlIHRoZSBMaWNlbnNlIGZvciB0aGUgc3BlY2lmaWMgbGFuZ3VhZ2UgZ292ZXJuaW5nIHBlcm1pc3Npb25zIGFuZAovLyBsaW1pdGF0aW9ucyB1bmRlciB0aGUgTGljZW5zZS4KCi8qKgogKiBAZmlsZW92ZXJ2aWV3IEhlbHBlcnMgZm9yIGdvb2dsZS5jb2xhYiBQeXRob24gbW9kdWxlLgogKi8KKGZ1bmN0aW9uKHNjb3BlKSB7CmZ1bmN0aW9uIHNwYW4odGV4dCwgc3R5bGVBdHRyaWJ1dGVzID0ge30pIHsKICBjb25zdCBlbGVtZW50ID0gZG9jdW1lbnQuY3JlYXRlRWxlbWVudCgnc3BhbicpOwogIGVsZW1lbnQudGV4dENvbnRlbnQgPSB0ZXh0OwogIGZvciAoY29uc3Qga2V5IG9mIE9iamVjdC5rZXlzKHN0eWxlQXR0cmlidXRlcykpIHsKICAgIGVsZW1lbnQuc3R5bGVba2V5XSA9IHN0eWxlQXR0cmlidXRlc1trZXldOwogIH0KICByZXR1cm4gZWxlbWVudDsKfQoKLy8gTWF4IG51bWJlciBvZiBieXRlcyB3aGljaCB3aWxsIGJlIHVwbG9hZGVkIGF0IGEgdGltZS4KY29uc3QgTUFYX1BBWUxPQURfU0laRSA9IDEwMCAqIDEwMjQ7CgpmdW5jdGlvbiBfdXBsb2FkRmlsZXMoaW5wdXRJZCwgb3V0cHV0SWQpIHsKICBjb25zdCBzdGVwcyA9IHVwbG9hZEZpbGVzU3RlcChpbnB1dElkLCBvdXRwdXRJZCk7CiAgY29uc3Qgb3V0cHV0RWxlbWVudCA9IGRvY3VtZW50LmdldEVsZW1lbnRCeUlkKG91dHB1dElkKTsKICAvLyBDYWNoZSBzdGVwcyBvbiB0aGUgb3V0cHV0RWxlbWVudCB0byBtYWtlIGl0IGF2YWlsYWJsZSBmb3IgdGhlIG5leHQgY2FsbAogIC8vIHRvIHVwbG9hZEZpbGVzQ29udGludWUgZnJvbSBQeXRob24uCiAgb3V0cHV0RWxlbWVudC5zdGVwcyA9IHN0ZXBzOwoKICByZXR1cm4gX3VwbG9hZEZpbGVzQ29udGludWUob3V0cHV0SWQpOwp9CgovLyBUaGlzIGlzIHJvdWdobHkgYW4gYXN5bmMgZ2VuZXJhdG9yIChub3Qgc3VwcG9ydGVkIGluIHRoZSBicm93c2VyIHlldCksCi8vIHdoZXJlIHRoZXJlIGFyZSBtdWx0aXBsZSBhc3luY2hyb25vdXMgc3RlcHMgYW5kIHRoZSBQeXRob24gc2lkZSBpcyBnb2luZwovLyB0byBwb2xsIGZvciBjb21wbGV0aW9uIG9mIGVhY2ggc3RlcC4KLy8gVGhpcyB1c2VzIGEgUHJvbWlzZSB0byBibG9jayB0aGUgcHl0aG9uIHNpZGUgb24gY29tcGxldGlvbiBvZiBlYWNoIHN0ZXAsCi8vIHRoZW4gcGFzc2VzIHRoZSByZXN1bHQgb2YgdGhlIHByZXZpb3VzIHN0ZXAgYXMgdGhlIGlucHV0IHRvIHRoZSBuZXh0IHN0ZXAuCmZ1bmN0aW9uIF91cGxvYWRGaWxlc0NvbnRpbnVlKG91dHB1dElkKSB7CiAgY29uc3Qgb3V0cHV0RWxlbWVudCA9IGRvY3VtZW50LmdldEVsZW1lbnRCeUlkKG91dHB1dElkKTsKICBjb25zdCBzdGVwcyA9IG91dHB1dEVsZW1lbnQuc3RlcHM7CgogIGNvbnN0IG5leHQgPSBzdGVwcy5uZXh0KG91dHB1dEVsZW1lbnQubGFzdFByb21pc2VWYWx1ZSk7CiAgcmV0dXJuIFByb21pc2UucmVzb2x2ZShuZXh0LnZhbHVlLnByb21pc2UpLnRoZW4oKHZhbHVlKSA9PiB7CiAgICAvLyBDYWNoZSB0aGUgbGFzdCBwcm9taXNlIHZhbHVlIHRvIG1ha2UgaXQgYXZhaWxhYmxlIHRvIHRoZSBuZXh0CiAgICAvLyBzdGVwIG9mIHRoZSBnZW5lcmF0b3IuCiAgICBvdXRwdXRFbGVtZW50Lmxhc3RQcm9taXNlVmFsdWUgPSB2YWx1ZTsKICAgIHJldHVybiBuZXh0LnZhbHVlLnJlc3BvbnNlOwogIH0pOwp9CgovKioKICogR2VuZXJhdG9yIGZ1bmN0aW9uIHdoaWNoIGlzIGNhbGxlZCBiZXR3ZWVuIGVhY2ggYXN5bmMgc3RlcCBvZiB0aGUgdXBsb2FkCiAqIHByb2Nlc3MuCiAqIEBwYXJhbSB7c3RyaW5nfSBpbnB1dElkIEVsZW1lbnQgSUQgb2YgdGhlIGlucHV0IGZpbGUgcGlja2VyIGVsZW1lbnQuCiAqIEBwYXJhbSB7c3RyaW5nfSBvdXRwdXRJZCBFbGVtZW50IElEIG9mIHRoZSBvdXRwdXQgZGlzcGxheS4KICogQHJldHVybiB7IUl0ZXJhYmxlPCFPYmplY3Q+fSBJdGVyYWJsZSBvZiBuZXh0IHN0ZXBzLgogKi8KZnVuY3Rpb24qIHVwbG9hZEZpbGVzU3RlcChpbnB1dElkLCBvdXRwdXRJZCkgewogIGNvbnN0IGlucHV0RWxlbWVudCA9IGRvY3VtZW50LmdldEVsZW1lbnRCeUlkKGlucHV0SWQpOwogIGlucHV0RWxlbWVudC5kaXNhYmxlZCA9IGZhbHNlOwoKICBjb25zdCBvdXRwdXRFbGVtZW50ID0gZG9jdW1lbnQuZ2V0RWxlbWVudEJ5SWQob3V0cHV0SWQpOwogIG91dHB1dEVsZW1lbnQuaW5uZXJIVE1MID0gJyc7CgogIGNvbnN0IHBpY2tlZFByb21pc2UgPSBuZXcgUHJvbWlzZSgocmVzb2x2ZSkgPT4gewogICAgaW5wdXRFbGVtZW50LmFkZEV2ZW50TGlzdGVuZXIoJ2NoYW5nZScsIChlKSA9PiB7CiAgICAgIHJlc29sdmUoZS50YXJnZXQuZmlsZXMpOwogICAgfSk7CiAgfSk7CgogIGNvbnN0IGNhbmNlbCA9IGRvY3VtZW50LmNyZWF0ZUVsZW1lbnQoJ2J1dHRvbicpOwogIGlucHV0RWxlbWVudC5wYXJlbnRFbGVtZW50LmFwcGVuZENoaWxkKGNhbmNlbCk7CiAgY2FuY2VsLnRleHRDb250ZW50ID0gJ0NhbmNlbCB1cGxvYWQnOwogIGNvbnN0IGNhbmNlbFByb21pc2UgPSBuZXcgUHJvbWlzZSgocmVzb2x2ZSkgPT4gewogICAgY2FuY2VsLm9uY2xpY2sgPSAoKSA9PiB7CiAgICAgIHJlc29sdmUobnVsbCk7CiAgICB9OwogIH0pOwoKICAvLyBXYWl0IGZvciB0aGUgdXNlciB0byBwaWNrIHRoZSBmaWxlcy4KICBjb25zdCBmaWxlcyA9IHlpZWxkIHsKICAgIHByb21pc2U6IFByb21pc2UucmFjZShbcGlja2VkUHJvbWlzZSwgY2FuY2VsUHJvbWlzZV0pLAogICAgcmVzcG9uc2U6IHsKICAgICAgYWN0aW9uOiAnc3RhcnRpbmcnLAogICAgfQogIH07CgogIGNhbmNlbC5yZW1vdmUoKTsKCiAgLy8gRGlzYWJsZSB0aGUgaW5wdXQgZWxlbWVudCBzaW5jZSBmdXJ0aGVyIHBpY2tzIGFyZSBub3QgYWxsb3dlZC4KICBpbnB1dEVsZW1lbnQuZGlzYWJsZWQgPSB0cnVlOwoKICBpZiAoIWZpbGVzKSB7CiAgICByZXR1cm4gewogICAgICByZXNwb25zZTogewogICAgICAgIGFjdGlvbjogJ2NvbXBsZXRlJywKICAgICAgfQogICAgfTsKICB9CgogIGZvciAoY29uc3QgZmlsZSBvZiBmaWxlcykgewogICAgY29uc3QgbGkgPSBkb2N1bWVudC5jcmVhdGVFbGVtZW50KCdsaScpOwogICAgbGkuYXBwZW5kKHNwYW4oZmlsZS5uYW1lLCB7Zm9udFdlaWdodDogJ2JvbGQnfSkpOwogICAgbGkuYXBwZW5kKHNwYW4oCiAgICAgICAgYCgke2ZpbGUudHlwZSB8fCAnbi9hJ30pIC0gJHtmaWxlLnNpemV9IGJ5dGVzLCBgICsKICAgICAgICBgbGFzdCBtb2RpZmllZDogJHsKICAgICAgICAgICAgZmlsZS5sYXN0TW9kaWZpZWREYXRlID8gZmlsZS5sYXN0TW9kaWZpZWREYXRlLnRvTG9jYWxlRGF0ZVN0cmluZygpIDoKICAgICAgICAgICAgICAgICAgICAgICAgICAgICAgICAgICAgJ24vYSd9IC0gYCkpOwogICAgY29uc3QgcGVyY2VudCA9IHNwYW4oJzAlIGRvbmUnKTsKICAgIGxpLmFwcGVuZENoaWxkKHBlcmNlbnQpOwoKICAgIG91dHB1dEVsZW1lbnQuYXBwZW5kQ2hpbGQobGkpOwoKICAgIGNvbnN0IGZpbGVEYXRhUHJvbWlzZSA9IG5ldyBQcm9taXNlKChyZXNvbHZlKSA9PiB7CiAgICAgIGNvbnN0IHJlYWRlciA9IG5ldyBGaWxlUmVhZGVyKCk7CiAgICAgIHJlYWRlci5vbmxvYWQgPSAoZSkgPT4gewogICAgICAgIHJlc29sdmUoZS50YXJnZXQucmVzdWx0KTsKICAgICAgfTsKICAgICAgcmVhZGVyLnJlYWRBc0FycmF5QnVmZmVyKGZpbGUpOwogICAgfSk7CiAgICAvLyBXYWl0IGZvciB0aGUgZGF0YSB0byBiZSByZWFkeS4KICAgIGxldCBmaWxlRGF0YSA9IHlpZWxkIHsKICAgICAgcHJvbWlzZTogZmlsZURhdGFQcm9taXNlLAogICAgICByZXNwb25zZTogewogICAgICAgIGFjdGlvbjogJ2NvbnRpbnVlJywKICAgICAgfQogICAgfTsKCiAgICAvLyBVc2UgYSBjaHVua2VkIHNlbmRpbmcgdG8gYXZvaWQgbWVzc2FnZSBzaXplIGxpbWl0cy4gU2VlIGIvNjIxMTU2NjAuCiAgICBsZXQgcG9zaXRpb24gPSAwOwogICAgd2hpbGUgKHBvc2l0aW9uIDwgZmlsZURhdGEuYnl0ZUxlbmd0aCkgewogICAgICBjb25zdCBsZW5ndGggPSBNYXRoLm1pbihmaWxlRGF0YS5ieXRlTGVuZ3RoIC0gcG9zaXRpb24sIE1BWF9QQVlMT0FEX1NJWkUpOwogICAgICBjb25zdCBjaHVuayA9IG5ldyBVaW50OEFycmF5KGZpbGVEYXRhLCBwb3NpdGlvbiwgbGVuZ3RoKTsKICAgICAgcG9zaXRpb24gKz0gbGVuZ3RoOwoKICAgICAgY29uc3QgYmFzZTY0ID0gYnRvYShTdHJpbmcuZnJvbUNoYXJDb2RlLmFwcGx5KG51bGwsIGNodW5rKSk7CiAgICAgIHlpZWxkIHsKICAgICAgICByZXNwb25zZTogewogICAgICAgICAgYWN0aW9uOiAnYXBwZW5kJywKICAgICAgICAgIGZpbGU6IGZpbGUubmFtZSwKICAgICAgICAgIGRhdGE6IGJhc2U2NCwKICAgICAgICB9LAogICAgICB9OwogICAgICBwZXJjZW50LnRleHRDb250ZW50ID0KICAgICAgICAgIGAke01hdGgucm91bmQoKHBvc2l0aW9uIC8gZmlsZURhdGEuYnl0ZUxlbmd0aCkgKiAxMDApfSUgZG9uZWA7CiAgICB9CiAgfQoKICAvLyBBbGwgZG9uZS4KICB5aWVsZCB7CiAgICByZXNwb25zZTogewogICAgICBhY3Rpb246ICdjb21wbGV0ZScsCiAgICB9CiAgfTsKfQoKc2NvcGUuZ29vZ2xlID0gc2NvcGUuZ29vZ2xlIHx8IHt9OwpzY29wZS5nb29nbGUuY29sYWIgPSBzY29wZS5nb29nbGUuY29sYWIgfHwge307CnNjb3BlLmdvb2dsZS5jb2xhYi5fZmlsZXMgPSB7CiAgX3VwbG9hZEZpbGVzLAogIF91cGxvYWRGaWxlc0NvbnRpbnVlLAp9Owp9KShzZWxmKTsK",
              "ok": true,
              "headers": [
                [
                  "content-type",
                  "application/javascript"
                ]
              ],
              "status": 200,
              "status_text": ""
            }
          },
          "base_uri": "https://localhost:8080/",
          "height": 72
        },
        "outputId": "25103c1d-77d8-43a6-c0ab-5f7b58dc5222"
      },
      "source": [
        "from google.colab import files\n",
        "uploaded = files.upload()\n",
        "data = np.loadtxt(\"regression.csv\", delimiter=\",\", skiprows=1, dtype={'names':(\"X\", \"Y\"), 'formats':('f', 'f')})\n",
        "data"
      ],
      "execution_count": null,
      "outputs": [
        {
          "output_type": "display_data",
          "data": {
            "text/html": [
              "\n",
              "     <input type=\"file\" id=\"files-6e9645f3-22bc-4a83-873e-4d164d770596\" name=\"files[]\" multiple disabled\n",
              "        style=\"border:none\" />\n",
              "     <output id=\"result-6e9645f3-22bc-4a83-873e-4d164d770596\">\n",
              "      Upload widget is only available when the cell has been executed in the\n",
              "      current browser session. Please rerun this cell to enable.\n",
              "      </output>\n",
              "      <script src=\"/nbextensions/google.colab/files.js\"></script> "
            ],
            "text/plain": [
              "<IPython.core.display.HTML object>"
            ]
          },
          "metadata": {
            "tags": []
          }
        },
        {
          "output_type": "stream",
          "text": [
            "Saving regression.csv to regression.csv\n"
          ],
          "name": "stdout"
        }
      ]
    },
    {
      "cell_type": "code",
      "metadata": {
        "id": "GK8AaKNMShBG",
        "colab": {
          "base_uri": "https://localhost:8080/"
        },
        "outputId": "04151736-7c39-4d17-fd8f-0f821bb33b1b"
      },
      "source": [
        "np.savetxt(\"regression_saved.csv\", data, delimiter=\",\")\n",
        "!ls -al regression_saved.csv"
      ],
      "execution_count": null,
      "outputs": [
        {
          "output_type": "stream",
          "text": [
            "-rw-r--r-- 1 root root 850 Mar 21 16:33 regression_saved.csv\n"
          ],
          "name": "stdout"
        }
      ]
    },
    {
      "cell_type": "markdown",
      "metadata": {
        "id": "OtRqlLUjShBH"
      },
      "source": [
        "## 4. Inspecting"
      ]
    },
    {
      "cell_type": "code",
      "metadata": {
        "colab": {
          "base_uri": "https://localhost:8080/"
        },
        "id": "7mGNl8RKxxOE",
        "outputId": "cc94f61c-767b-4d1a-aec9-4dd477d23297"
      },
      "source": [
        "arr = np.random.random(100)\n",
        "arr\n",
        "#나오는 숫자들 모두 0부터 1사이."
      ],
      "execution_count": 42,
      "outputs": [
        {
          "output_type": "execute_result",
          "data": {
            "text/plain": [
              "array([0.68190349, 0.56699098, 0.53901428, 0.51873183, 0.39917903,\n",
              "       0.94544036, 0.63614967, 0.22776215, 0.64785332, 0.39302716,\n",
              "       0.73783337, 0.27990504, 0.98229514, 0.54575922, 0.18476184,\n",
              "       0.04031536, 0.37111459, 0.26047474, 0.26651166, 0.71461783,\n",
              "       0.17582133, 0.85530482, 0.74627941, 0.63632136, 0.70301098,\n",
              "       0.80110237, 0.97895904, 0.43317921, 0.11101366, 0.55519703,\n",
              "       0.37398251, 0.95039018, 0.00944514, 0.93364932, 0.06570261,\n",
              "       0.61753158, 0.86966517, 0.08002197, 0.53184093, 0.35462097,\n",
              "       0.60744184, 0.42400535, 0.04159699, 0.02058195, 0.57598179,\n",
              "       0.45296878, 0.79303526, 0.66578876, 0.00875633, 0.9470585 ,\n",
              "       0.15122071, 0.49303243, 0.65857661, 0.85743918, 0.9246257 ,\n",
              "       0.73528353, 0.88440784, 0.295368  , 0.7510119 , 0.66018258,\n",
              "       0.34759222, 0.86488258, 0.55535982, 0.39431029, 0.43944065,\n",
              "       0.83256588, 0.55535147, 0.9226736 , 0.46619674, 0.75081671,\n",
              "       0.80743401, 0.75544643, 0.27691368, 0.32321421, 0.93584191,\n",
              "       0.43544858, 0.072936  , 0.11716597, 0.78319483, 0.21470228,\n",
              "       0.48034586, 0.62605644, 0.66625708, 0.23357719, 0.89609947,\n",
              "       0.75157521, 0.93689926, 0.99360078, 0.89161305, 0.39378263,\n",
              "       0.55815709, 0.4871654 , 0.67037352, 0.48112638, 0.01909707,\n",
              "       0.3058764 , 0.27177913, 0.53816878, 0.90483715, 0.97982193])"
            ]
          },
          "metadata": {
            "tags": []
          },
          "execution_count": 42
        }
      ]
    },
    {
      "cell_type": "code",
      "metadata": {
        "id": "hCdNQ9LdShBH",
        "colab": {
          "base_uri": "https://localhost:8080/"
        },
        "outputId": "23404021-e1b0-4b15-9f34-83662606f30f"
      },
      "source": [
        "arr = np.random.random([5,2,3])\n",
        "arr\n",
        "#대괄호 안에 세 개니까 3차원이구나~"
      ],
      "execution_count": 45,
      "outputs": [
        {
          "output_type": "execute_result",
          "data": {
            "text/plain": [
              "array([[[0.24500633, 0.95429852, 0.71543308],\n",
              "        [0.1659197 , 0.64710646, 0.8654955 ]],\n",
              "\n",
              "       [[0.416846  , 0.32436294, 0.56793032],\n",
              "        [0.36803057, 0.20198825, 0.29943249]],\n",
              "\n",
              "       [[0.06495514, 0.22787087, 0.13049156],\n",
              "        [0.61548616, 0.92458771, 0.1909354 ]],\n",
              "\n",
              "       [[0.99634771, 0.52744662, 0.05735927],\n",
              "        [0.12124042, 0.30362309, 0.43712269]],\n",
              "\n",
              "       [[0.65559587, 0.29239572, 0.05749258],\n",
              "        [0.08667114, 0.80257779, 0.06040173]]])"
            ]
          },
          "metadata": {
            "tags": []
          },
          "execution_count": 45
        }
      ]
    },
    {
      "cell_type": "code",
      "metadata": {
        "colab": {
          "base_uri": "https://localhost:8080/"
        },
        "id": "73vhaileyT5E",
        "outputId": "4e95b34d-4cd0-438c-c6aa-691be181acb3"
      },
      "source": [
        "ㅁ=2\n",
        "print(type(ㅁ))\n",
        "#웬만한 변수들은 클래스에 소속됨~"
      ],
      "execution_count": 47,
      "outputs": [
        {
          "output_type": "stream",
          "text": [
            "<class 'int'>\n"
          ],
          "name": "stdout"
        }
      ]
    },
    {
      "cell_type": "code",
      "metadata": {
        "colab": {
          "base_uri": "https://localhost:8080/",
          "height": 53
        },
        "id": "gjhp2j7MykLL",
        "outputId": "ab078c1b-b2ff-4acc-cec5-08c2fdb4ef12"
      },
      "source": [
        "ㄴ='test'\n",
        "print(type(ㄴ))\n",
        "ㄴ.lower()"
      ],
      "execution_count": 49,
      "outputs": [
        {
          "output_type": "stream",
          "text": [
            "<class 'str'>\n"
          ],
          "name": "stdout"
        },
        {
          "output_type": "execute_result",
          "data": {
            "application/vnd.google.colaboratory.intrinsic+json": {
              "type": "string"
            },
            "text/plain": [
              "'test'"
            ]
          },
          "metadata": {
            "tags": []
          },
          "execution_count": 49
        }
      ]
    },
    {
      "cell_type": "code",
      "metadata": {
        "id": "PrlTloJtShBH",
        "colab": {
          "base_uri": "https://localhost:8080/"
        },
        "outputId": "a801f499-d3db-4715-f8ba-61b451509b51"
      },
      "source": [
        "print(type(arr))\n",
        "print(len(arr))\n",
        "print(arr.shape)\n",
        "print(arr.ndim)\n",
        "print(arr.size)\n",
        "print(arr.dtype)\n",
        "#ndarray는 3차원이라는 뜻(?)\n",
        "#arr의 length는 \n",
        "#arr의 구조\n",
        "#arr의 차원\n",
        "#size는 elements의 수\n",
        "#datatype"
      ],
      "execution_count": 55,
      "outputs": [
        {
          "output_type": "stream",
          "text": [
            "<class 'numpy.ndarray'>\n",
            "5\n",
            "(5, 2, 3)\n",
            "3\n",
            "30\n",
            "float64\n"
          ],
          "name": "stdout"
        }
      ]
    },
    {
      "cell_type": "markdown",
      "metadata": {
        "id": "ll__HZZAShBH"
      },
      "source": [
        "## 5. Operations"
      ]
    },
    {
      "cell_type": "markdown",
      "metadata": {
        "id": "v2r4x2usShBH"
      },
      "source": [
        "### 5.1 Arithmetic"
      ]
    },
    {
      "cell_type": "code",
      "metadata": {
        "id": "dD6wrlL2ShBH",
        "colab": {
          "base_uri": "https://localhost:8080/"
        },
        "outputId": "dee774a9-8319-4a01-c8e7-8b3da75481a2"
      },
      "source": [
        "a = np.arange(1, 5)\n",
        "b = np.arange(9, 5, -1)\n",
        "a"
      ],
      "execution_count": 57,
      "outputs": [
        {
          "output_type": "execute_result",
          "data": {
            "text/plain": [
              "array([1, 2, 3, 4])"
            ]
          },
          "metadata": {
            "tags": []
          },
          "execution_count": 57
        }
      ]
    },
    {
      "cell_type": "code",
      "metadata": {
        "colab": {
          "base_uri": "https://localhost:8080/"
        },
        "id": "NRIacw9Rz2NA",
        "outputId": "33aed74c-dcba-46d2-a1bb-b372dd41d36a"
      },
      "source": [
        "np.arange(1, 5,.1)"
      ],
      "execution_count": 58,
      "outputs": [
        {
          "output_type": "execute_result",
          "data": {
            "text/plain": [
              "array([1. , 1.1, 1.2, 1.3, 1.4, 1.5, 1.6, 1.7, 1.8, 1.9, 2. , 2.1, 2.2,\n",
              "       2.3, 2.4, 2.5, 2.6, 2.7, 2.8, 2.9, 3. , 3.1, 3.2, 3.3, 3.4, 3.5,\n",
              "       3.6, 3.7, 3.8, 3.9, 4. , 4.1, 4.2, 4.3, 4.4, 4.5, 4.6, 4.7, 4.8,\n",
              "       4.9])"
            ]
          },
          "metadata": {
            "tags": []
          },
          "execution_count": 58
        }
      ]
    },
    {
      "cell_type": "code",
      "metadata": {
        "colab": {
          "base_uri": "https://localhost:8080/"
        },
        "id": "W0b0m1Bg0yn8",
        "outputId": "d7c41748-c867-4ba4-cd0e-eeec02c7d5c5"
      },
      "source": [
        "b"
      ],
      "execution_count": 62,
      "outputs": [
        {
          "output_type": "execute_result",
          "data": {
            "text/plain": [
              "array([9, 8, 7, 6])"
            ]
          },
          "metadata": {
            "tags": []
          },
          "execution_count": 62
        }
      ]
    },
    {
      "cell_type": "code",
      "metadata": {
        "id": "bD5zmaaiShBI",
        "colab": {
          "base_uri": "https://localhost:8080/"
        },
        "outputId": "008a9805-8b6d-47c5-efef-a57f01d4748b"
      },
      "source": [
        "print(a - b)\n",
        "print(a * b)\n",
        "#얘네 결과 matrix 아닌 거 보이지?!"
      ],
      "execution_count": 63,
      "outputs": [
        {
          "output_type": "stream",
          "text": [
            "[-8 -6 -4 -2]\n",
            "[ 9 16 21 24]\n"
          ],
          "name": "stdout"
        }
      ]
    },
    {
      "cell_type": "code",
      "metadata": {
        "id": "XqG8AA4oShBI"
      },
      "source": [
        "a = np.matrix(a)\n",
        "b = np.matrix(b)"
      ],
      "execution_count": 68,
      "outputs": []
    },
    {
      "cell_type": "code",
      "metadata": {
        "id": "uqCAC4oYShBI",
        "colab": {
          "base_uri": "https://localhost:8080/"
        },
        "outputId": "73100bee-903a-4cc3-f8f1-fceb31211908"
      },
      "source": [
        "a * b.T\n",
        "#Transpose(?)하면 1*4 에서 4*1로\n",
        "#순서대로 곱하고 모두 더한 값 출력"
      ],
      "execution_count": 71,
      "outputs": [
        {
          "output_type": "execute_result",
          "data": {
            "text/plain": [
              "matrix([[70]])"
            ]
          },
          "metadata": {
            "tags": []
          },
          "execution_count": 71
        }
      ]
    },
    {
      "cell_type": "code",
      "metadata": {
        "id": "OwW-TYQ1ShBI",
        "colab": {
          "base_uri": "https://localhost:8080/"
        },
        "outputId": "cca58a90-007d-4f1a-9752-d3deb10ae3a5"
      },
      "source": [
        "a.T * b"
      ],
      "execution_count": 70,
      "outputs": [
        {
          "output_type": "execute_result",
          "data": {
            "text/plain": [
              "matrix([[ 9,  8,  7,  6],\n",
              "        [18, 16, 14, 12],\n",
              "        [27, 24, 21, 18],\n",
              "        [36, 32, 28, 24]])"
            ]
          },
          "metadata": {
            "tags": []
          },
          "execution_count": 70
        }
      ]
    },
    {
      "cell_type": "markdown",
      "metadata": {
        "id": "nIzwheicShBI"
      },
      "source": [
        "### 5.2 Comparison"
      ]
    },
    {
      "cell_type": "code",
      "metadata": {
        "id": "avEnIBt6ShBI",
        "colab": {
          "base_uri": "https://localhost:8080/"
        },
        "outputId": "39bf8205-8161-42af-ed38-a024f7afb0c6"
      },
      "source": [
        "a = np.arange(1, 10).reshape(3,3)\n",
        "b = np.arange(9, 0, -1).reshape(3,3)\n",
        "print(a)\n",
        "print(b)"
      ],
      "execution_count": 77,
      "outputs": [
        {
          "output_type": "stream",
          "text": [
            "[[1 2 3]\n",
            " [4 5 6]\n",
            " [7 8 9]]\n",
            "[[9 8 7]\n",
            " [6 5 4]\n",
            " [3 2 1]]\n"
          ],
          "name": "stdout"
        }
      ]
    },
    {
      "cell_type": "code",
      "metadata": {
        "id": "R2wtow0tShBJ",
        "colab": {
          "base_uri": "https://localhost:8080/"
        },
        "outputId": "298c6233-7e5c-4379-86f1-39e314ed5312"
      },
      "source": [
        "a == b\n",
        "#같은 애들 t, 다름ㄴ f"
      ],
      "execution_count": 78,
      "outputs": [
        {
          "output_type": "execute_result",
          "data": {
            "text/plain": [
              "array([[False, False, False],\n",
              "       [False,  True, False],\n",
              "       [False, False, False]])"
            ]
          },
          "metadata": {
            "tags": []
          },
          "execution_count": 78
        }
      ]
    },
    {
      "cell_type": "code",
      "metadata": {
        "id": "M74Vdg5xShBJ",
        "outputId": "552bd724-2d0d-48af-fc05-85d5e8b8990b"
      },
      "source": [
        "a > b"
      ],
      "execution_count": null,
      "outputs": [
        {
          "output_type": "execute_result",
          "data": {
            "text/plain": [
              "array([[False, False, False],\n",
              "       [False, False,  True],\n",
              "       [ True,  True,  True]])"
            ]
          },
          "metadata": {
            "tags": []
          },
          "execution_count": 66
        }
      ]
    },
    {
      "cell_type": "markdown",
      "metadata": {
        "id": "8mA86qfpShBJ"
      },
      "source": [
        "### 5.3 Aggregate (sum, min, max, mean, median, std)"
      ]
    },
    {
      "cell_type": "code",
      "metadata": {
        "id": "SkhVvDeiShBJ",
        "colab": {
          "base_uri": "https://localhost:8080/"
        },
        "outputId": "455b1f18-3819-46c8-c9d9-bfca16c4413c"
      },
      "source": [
        "a.sum(), np.sum(a)\n",
        "#a.sum(), np.sum(a)둘다 결과 같아~ "
      ],
      "execution_count": 79,
      "outputs": [
        {
          "output_type": "execute_result",
          "data": {
            "text/plain": [
              "(45, 45)"
            ]
          },
          "metadata": {
            "tags": []
          },
          "execution_count": 79
        }
      ]
    },
    {
      "cell_type": "code",
      "metadata": {
        "id": "95jUB6qWShBJ",
        "colab": {
          "base_uri": "https://localhost:8080/"
        },
        "outputId": "37c07cad-99a3-4a77-b7df-e97596268f11"
      },
      "source": [
        "a.sum(axis=0), np.sum(a, axis=0)"
      ],
      "execution_count": 80,
      "outputs": [
        {
          "output_type": "execute_result",
          "data": {
            "text/plain": [
              "(array([12, 15, 18]), array([12, 15, 18]))"
            ]
          },
          "metadata": {
            "tags": []
          },
          "execution_count": 80
        }
      ]
    },
    {
      "cell_type": "code",
      "metadata": {
        "id": "PP93kmgEShBK",
        "colab": {
          "base_uri": "https://localhost:8080/"
        },
        "outputId": "448314e1-cda7-482b-c77b-391776322050"
      },
      "source": [
        "a.sum(axis=1), np.sum(a, axis=1)"
      ],
      "execution_count": 81,
      "outputs": [
        {
          "output_type": "execute_result",
          "data": {
            "text/plain": [
              "(array([ 6, 15, 24]), array([ 6, 15, 24]))"
            ]
          },
          "metadata": {
            "tags": []
          },
          "execution_count": 81
        }
      ]
    },
    {
      "cell_type": "markdown",
      "metadata": {
        "id": "HRSOB-BRShBK"
      },
      "source": [
        "## Broadcasting"
      ]
    },
    {
      "cell_type": "code",
      "metadata": {
        "id": "2g-SnKKoShBK",
        "colab": {
          "base_uri": "https://localhost:8080/"
        },
        "outputId": "441934c5-71ca-4ace-e39d-2b751eb0df08"
      },
      "source": [
        "a = np.arange(1, 25).reshape(4, 6)\n",
        "a"
      ],
      "execution_count": 75,
      "outputs": [
        {
          "output_type": "execute_result",
          "data": {
            "text/plain": [
              "array([[ 1,  2,  3,  4,  5,  6],\n",
              "       [ 7,  8,  9, 10, 11, 12],\n",
              "       [13, 14, 15, 16, 17, 18],\n",
              "       [19, 20, 21, 22, 23, 24]])"
            ]
          },
          "metadata": {
            "tags": []
          },
          "execution_count": 75
        }
      ]
    },
    {
      "cell_type": "code",
      "metadata": {
        "id": "JI8Ge4tMShBK",
        "outputId": "2e36f9a4-9163-4935-c14c-0de11babea1d"
      },
      "source": [
        "a + 100"
      ],
      "execution_count": null,
      "outputs": [
        {
          "output_type": "execute_result",
          "data": {
            "text/plain": [
              "array([[101, 102, 103, 104, 105, 106],\n",
              "       [107, 108, 109, 110, 111, 112],\n",
              "       [113, 114, 115, 116, 117, 118],\n",
              "       [119, 120, 121, 122, 123, 124]])"
            ]
          },
          "metadata": {
            "tags": []
          },
          "execution_count": 71
        }
      ]
    },
    {
      "cell_type": "code",
      "metadata": {
        "id": "pv5IB9_5ShBK",
        "outputId": "673c43cf-923c-41b5-ca1e-c07d65d03157"
      },
      "source": [
        "b = np.arange(6)\n",
        "b"
      ],
      "execution_count": null,
      "outputs": [
        {
          "output_type": "execute_result",
          "data": {
            "text/plain": [
              "array([0, 1, 2, 3, 4, 5])"
            ]
          },
          "metadata": {
            "tags": []
          },
          "execution_count": 72
        }
      ]
    },
    {
      "cell_type": "code",
      "metadata": {
        "id": "kGBax9WIShBL",
        "outputId": "004b37b7-44b5-4adc-a32a-96df51492311"
      },
      "source": [
        "a + b"
      ],
      "execution_count": null,
      "outputs": [
        {
          "output_type": "execute_result",
          "data": {
            "text/plain": [
              "array([[ 1,  3,  5,  7,  9, 11],\n",
              "       [ 7,  9, 11, 13, 15, 17],\n",
              "       [13, 15, 17, 19, 21, 23],\n",
              "       [19, 21, 23, 25, 27, 29]])"
            ]
          },
          "metadata": {
            "tags": []
          },
          "execution_count": 73
        }
      ]
    },
    {
      "cell_type": "code",
      "metadata": {
        "id": "3Od9qiz5ShBL",
        "outputId": "8606cf8e-55cc-41b3-dbb4-fa7b053cd260"
      },
      "source": [
        "c = np.arange(4).reshape([4,1])\n",
        "c"
      ],
      "execution_count": null,
      "outputs": [
        {
          "output_type": "execute_result",
          "data": {
            "text/plain": [
              "array([[0],\n",
              "       [1],\n",
              "       [2],\n",
              "       [3]])"
            ]
          },
          "metadata": {
            "tags": []
          },
          "execution_count": 74
        }
      ]
    },
    {
      "cell_type": "code",
      "metadata": {
        "id": "qd2_qAtKShBL",
        "outputId": "f7d936a4-3975-4fdc-803e-fec24b24925b"
      },
      "source": [
        "a + c"
      ],
      "execution_count": null,
      "outputs": [
        {
          "output_type": "execute_result",
          "data": {
            "text/plain": [
              "array([[ 1,  2,  3,  4,  5,  6],\n",
              "       [ 8,  9, 10, 11, 12, 13],\n",
              "       [15, 16, 17, 18, 19, 20],\n",
              "       [22, 23, 24, 25, 26, 27]])"
            ]
          },
          "metadata": {
            "tags": []
          },
          "execution_count": 75
        }
      ]
    }
  ]
}