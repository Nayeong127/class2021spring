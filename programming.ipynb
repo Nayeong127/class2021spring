{
  "nbformat": 4,
  "nbformat_minor": 0,
  "metadata": {
    "colab": {
      "name": "programming",
      "provenance": [],
      "authorship_tag": "ABX9TyOx5o10bNPVQeji9R0DyzFR",
      "include_colab_link": true
    },
    "kernelspec": {
      "name": "python3",
      "display_name": "Python 3"
    }
  },
  "cells": [
    {
      "cell_type": "markdown",
      "metadata": {
        "id": "view-in-github",
        "colab_type": "text"
      },
      "source": [
        "<a href=\"https://colab.research.google.com/github/Nayeong127/class2021Spring/blob/main/programming.ipynb\" target=\"_parent\"><img src=\"https://colab.research.google.com/assets/colab-badge.svg\" alt=\"Open In Colab\"/></a>"
      ]
    },
    {
      "cell_type": "code",
      "metadata": {
        "id": "b6XBVsPnh1lp"
      },
      "source": [
        ""
      ],
      "execution_count": null,
      "outputs": []
    },
    {
      "cell_type": "markdown",
      "metadata": {
        "id": "H3wiyniph2T3"
      },
      "source": [
        "# **컴퓨터 언어**\r\n",
        "\r\n",
        "**변수**: a=1/// variable,변수=(내용)\r\n",
        "\r\n",
        "*= : 오른쪽 내용을 왼쪽에 assign~ 같다는 게 아님!*\r\n",
        "\r\n",
        "**제어문:** 반복(for), 조건(if)\r\n",
        "\r\n",
        "    for 100\r\n",
        "      print (1)\r\n",
        "    -> 100까지 1를 반복해라\r\n",
        "\r\n",
        "\r\n",
        "    a=1\r\n",
        "    if a==1\r\n",
        "      print(3)\r\n",
        "    -> a가 1이면 3을 프린트해라\r\n",
        "\r\n",
        "**함수**: 입력-(함수)->출력\r\n",
        "\r\n",
        "y=f(x) 함수 ->x가 입력, y가 출력\r\n",
        "\r\n",
        "반복적으로 똑같은 걸 쓰는 것은 함수로 만들자!\r\n",
        " \r\n",
        " ex) add(a,b)\r\n",
        "    c=a+b\r\n",
        "    c\r\n",
        "\r\n",
        "a=1\r\n",
        "b=1\r\n",
        "add(a,b)\r\n",
        "\r\n",
        "이렇게 !!"
      ]
    }
  ]
}