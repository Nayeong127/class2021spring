{
  "nbformat": 4,
  "nbformat_minor": 0,
  "metadata": {
    "colab": {
      "name": "import.ipynb",
      "provenance": [],
      "authorship_tag": "ABX9TyOaSVnICrmd6SvJuLS9WQYT",
      "include_colab_link": true
    },
    "kernelspec": {
      "name": "python3",
      "display_name": "Python 3"
    },
    "language_info": {
      "name": "python"
    }
  },
  "cells": [
    {
      "cell_type": "markdown",
      "metadata": {
        "id": "view-in-github",
        "colab_type": "text"
      },
      "source": [
        "<a href=\"https://colab.research.google.com/github/Nayeong127/class2021Spring/blob/main/import.ipynb\" target=\"_parent\"><img src=\"https://colab.research.google.com/assets/colab-badge.svg\" alt=\"Open In Colab\"/></a>"
      ]
    },
    {
      "cell_type": "code",
      "metadata": {
        "id": "JXicrkYOzPRo"
      },
      "source": [
        "import numpy as np\n",
        "n = np.random.randn(100)"
      ],
      "execution_count": 1,
      "outputs": []
    },
    {
      "cell_type": "code",
      "metadata": {
        "id": "oKT4vn4MwyLA"
      },
      "source": [
        "import matplotlib\n",
        "import matplotlib.pyplot\n",
        "from matplotlib import pyplot\n",
        "from matplotlib.pyplot import hist"
      ],
      "execution_count": 2,
      "outputs": []
    },
    {
      "cell_type": "markdown",
      "metadata": {
        "id": "iZQaqkFkhgAf"
      },
      "source": [
        "# **수업 필기** \n",
        "\n",
        "from 상위 import 하위\n",
        "\n",
        "import ~\n",
        "\n",
        "\n",
        "패키지(폴더, 디렉토리 같은 거)- 서브 폴더- ~.py의 모듈-클래스, function이 많이 들어있다\n",
        "\n"
      ]
    },
    {
      "cell_type": "code",
      "metadata": {
        "colab": {
          "base_uri": "https://localhost:8080/",
          "height": 353
        },
        "id": "EVydL9bNhVaS",
        "outputId": "3516423f-9968-4cd2-b05f-2c5327c38967"
      },
      "source": [
        "pyplot.hist(n)"
      ],
      "execution_count": 3,
      "outputs": [
        {
          "output_type": "execute_result",
          "data": {
            "text/plain": [
              "(array([ 2.,  4.,  8.,  7., 22., 17., 16., 12.,  5.,  7.]),\n",
              " array([-2.33376843, -1.88415272, -1.43453701, -0.9849213 , -0.53530559,\n",
              "        -0.08568988,  0.36392583,  0.81354155,  1.26315726,  1.71277297,\n",
              "         2.16238868]),\n",
              " <a list of 10 Patch objects>)"
            ]
          },
          "metadata": {
            "tags": []
          },
          "execution_count": 3
        },
        {
          "output_type": "display_data",
          "data": {
            "image/png": "[encoded data removed]",
            "text/plain": [
              "<Figure size 432x288 with 1 Axes>"
            ]
          },
          "metadata": {
            "tags": [],
            "needs_background": "light"
          }
        }
      ]
    },
    {
      "cell_type": "code",
      "metadata": {
        "colab": {
          "base_uri": "https://localhost:8080/"
        },
        "id": "vd8Vlm5qhcCa",
        "outputId": "2cb35a4b-0c49-4fd3-9a41-4b104ce7377f"
      },
      "source": [
        "hist"
      ],
      "execution_count": 12,
      "outputs": [
        {
          "output_type": "execute_result",
          "data": {
            "text/plain": [
              "<function matplotlib.pyplot.hist>"
            ]
          },
          "metadata": {
            "tags": []
          },
          "execution_count": 12
        }
      ]
    },
    {
      "cell_type": "markdown",
      "metadata": {
        "id": "3LnobCI-ioad"
      },
      "source": [
        "import matplotlib.pyplot하면 맷플롯리브의 모듈 모두 불러오는 것. matplotlib.pyplot.hist(n) 하면 그림 보여줌\n",
        "\n",
        "from matplotlib import pyplot 이걸 사용하려면 파이플롯만 했으니까 pyplot.hist(n) 이렇게만 하면 됨.\n",
        "\n",
        "from matplotlib.pyplot import hist 이걸 할 거면 hist(n)을 하면 된당\n",
        "\n",
        "*아래 참고*"
      ]
    },
    {
      "cell_type": "code",
      "metadata": {
        "id": "PtVu268GiFy-"
      },
      "source": [
        "import matplotlib.pyplot"
      ],
      "execution_count": 6,
      "outputs": []
    },
    {
      "cell_type": "code",
      "metadata": {
        "colab": {
          "base_uri": "https://localhost:8080/",
          "height": 353
        },
        "id": "6gu0P1DCjMdm",
        "outputId": "b3e261b6-b8ae-44e6-9efd-95da5e638ef5"
      },
      "source": [
        "matplotlib.pyplot.hist(n)"
      ],
      "execution_count": 7,
      "outputs": [
        {
          "output_type": "execute_result",
          "data": {
            "text/plain": [
              "(array([ 2.,  4.,  8.,  7., 22., 17., 16., 12.,  5.,  7.]),\n",
              " array([-2.33376843, -1.88415272, -1.43453701, -0.9849213 , -0.53530559,\n",
              "        -0.08568988,  0.36392583,  0.81354155,  1.26315726,  1.71277297,\n",
              "         2.16238868]),\n",
              " <a list of 10 Patch objects>)"
            ]
          },
          "metadata": {
            "tags": []
          },
          "execution_count": 7
        },
        {
          "output_type": "display_data",
          "data": {
            "image/png": "[encoded data removed]",
            "text/plain": [
              "<Figure size 432x288 with 1 Axes>"
            ]
          },
          "metadata": {
            "tags": [],
            "needs_background": "light"
          }
        }
      ]
    },
    {
      "cell_type": "code",
      "metadata": {
        "id": "g8yyLakSjP5p"
      },
      "source": [
        "from matplotlib import pyplot"
      ],
      "execution_count": 8,
      "outputs": []
    },
    {
      "cell_type": "code",
      "metadata": {
        "colab": {
          "base_uri": "https://localhost:8080/",
          "height": 353
        },
        "id": "_QcqKe-wjR4h",
        "outputId": "98b8bf99-f104-4447-ae68-0f5b8391f975"
      },
      "source": [
        "pyplot.hist(n)"
      ],
      "execution_count": 9,
      "outputs": [
        {
          "output_type": "execute_result",
          "data": {
            "text/plain": [
              "(array([ 2.,  4.,  8.,  7., 22., 17., 16., 12.,  5.,  7.]),\n",
              " array([-2.33376843, -1.88415272, -1.43453701, -0.9849213 , -0.53530559,\n",
              "        -0.08568988,  0.36392583,  0.81354155,  1.26315726,  1.71277297,\n",
              "         2.16238868]),\n",
              " <a list of 10 Patch objects>)"
            ]
          },
          "metadata": {
            "tags": []
          },
          "execution_count": 9
        },
        {
          "output_type": "display_data",
          "data": {
            "image/png": "[encoded data removed]",
            "text/plain": [
              "<Figure size 432x288 with 1 Axes>"
            ]
          },
          "metadata": {
            "tags": [],
            "needs_background": "light"
          }
        }
      ]
    },
    {
      "cell_type": "code",
      "metadata": {
        "id": "c0GYnQ2ojU9k"
      },
      "source": [
        "from matplotlib.pyplot import hist"
      ],
      "execution_count": 10,
      "outputs": []
    },
    {
      "cell_type": "code",
      "metadata": {
        "colab": {
          "base_uri": "https://localhost:8080/",
          "height": 353
        },
        "id": "Jw0D2LQujfZU",
        "outputId": "0693ea62-5073-4962-eb68-a54e954a1161"
      },
      "source": [
        "hist(n)"
      ],
      "execution_count": 11,
      "outputs": [
        {
          "output_type": "execute_result",
          "data": {
            "text/plain": [
              "(array([ 2.,  4.,  8.,  7., 22., 17., 16., 12.,  5.,  7.]),\n",
              " array([-2.33376843, -1.88415272, -1.43453701, -0.9849213 , -0.53530559,\n",
              "        -0.08568988,  0.36392583,  0.81354155,  1.26315726,  1.71277297,\n",
              "         2.16238868]),\n",
              " <a list of 10 Patch objects>)"
            ]
          },
          "metadata": {
            "tags": []
          },
          "execution_count": 11
        },
        {
          "output_type": "display_data",
          "data": {
            "image/png": "[encoded data removed]",
            "text/plain": [
              "<Figure size 432x288 with 1 Axes>"
            ]
          },
          "metadata": {
            "tags": [],
            "needs_background": "light"
          }
        }
      ]
    },
    {
      "cell_type": "code",
      "metadata": {
        "id": "7yBEpGRDjj6m"
      },
      "source": [
        ""
      ],
      "execution_count": null,
      "outputs": []
    }
  ]
}